{
 "cells": [
  {
   "cell_type": "code",
   "execution_count": 1,
   "metadata": {},
   "outputs": [],
   "source": [
    "import torch\n",
    "import torch.nn as nn\n",
    "from torchvision import transforms\n",
    "from torchsummary import summary\n",
    "from torch.utils.tensorboard import SummaryWriter\n",
    "from PIL import Image"
   ]
  },
  {
   "cell_type": "code",
   "execution_count": 2,
   "metadata": {},
   "outputs": [
    {
     "data": {
      "text/plain": [
       "<torch._C.Generator at 0x116410df0>"
      ]
     },
     "execution_count": 2,
     "metadata": {},
     "output_type": "execute_result"
    }
   ],
   "source": [
    "torch.manual_seed(1)"
   ]
  },
  {
   "cell_type": "code",
   "execution_count": 3,
   "metadata": {},
   "outputs": [],
   "source": [
    "img = Image.open('/Users/arponbiswas/Computer-Vision-Projects/Image_classification_projects/Ant_Bee_Classification/Data_samples/ant/541630764_dbd285d63c.jpg')\n",
    "trans = transforms.Compose([\n",
    "    transforms.Resize((224, 224)),\n",
    "    transforms.ToTensor()\n",
    "])\n",
    "trans_img = trans(img)"
   ]
  },
  {
   "cell_type": "code",
   "execution_count": 4,
   "metadata": {},
   "outputs": [
    {
     "data": {
      "text/plain": [
       "torch.Size([3, 224, 224])"
      ]
     },
     "execution_count": 4,
     "metadata": {},
     "output_type": "execute_result"
    }
   ],
   "source": [
    "trans_img.shape"
   ]
  },
  {
   "cell_type": "code",
   "execution_count": 5,
   "metadata": {},
   "outputs": [],
   "source": [
    "def operation(model, input=torch.rand(1, 3, 224, 224)):\n",
    "\n",
    "    if len(input.size()) == 3 and input.size(0) == 3 and input.size(1) == 224 and input.size(2) == 224:\n",
    "        input = input.unsqueeze(0)\n",
    "    elif input.size(0) == 1 and input.size(1) == 3 and len(input.size()) == 4 and input.size(2) == 224 and input.size(3) == 224:\n",
    "        input = input\n",
    "    else:\n",
    "        raise ValueError('Input shape should be (3, 224, 224)')\n",
    "        \n",
    "    image_layers = []\n",
    "    for layer in model.modules():\n",
    "        if isinstance(layer, nn.Conv2d) or isinstance(layer, nn.MaxPool2d) or isinstance(layer, nn.BatchNorm2d) or isinstance(layer, nn.AvgPool2d) or isinstance(layer, nn.AdaptiveAvgPool2d) or isinstance(layer, nn.AdaptiveMaxPool2d):\n",
    "            image_layers.append(layer)\n",
    "       \n",
    "    \n",
    "    writer = SummaryWriter(f'/Users/arponbiswas/Computer-Vision-Projects/Image_classification_projects/Ant_Bee_Classification/TensorBoard-Graph/model_testing/{model.name}')\n",
    "    writer.add_graph(model, input)\n",
    "    for i, layer in enumerate(image_layers):\n",
    "        x = layer(input).squeeze(0)\n",
    "        x_vis = x.clone()\n",
    "        if x_vis.size(0) > 3:\n",
    "            x_vis = x_vis[:3]\n",
    "        writer.add_image(f'layer_{i}', x_vis)\n",
    "        input = x.unsqueeze(0)\n",
    "    \n",
    "    writer.close()\n",
    "    print(model.name)\n",
    "    summary(model, input_size=(3, 224, 224))"
   ]
  },
  {
   "cell_type": "code",
   "execution_count": null,
   "metadata": {},
   "outputs": [],
   "source": [
    "class Model_18(nn.Module):\n",
    "    def __inti__(self):\n",
    "        super(Model_18, self).__init__()\n",
    "        self.conv1 = nn.Conv2d(in_channels=3, out_channels=3, kernel_size=2, stride=1, padding=0) #use kernel=5 stride=5"
   ]
  },
  {
   "cell_type": "code",
   "execution_count": null,
   "metadata": {},
   "outputs": [],
   "source": []
  }
 ],
 "metadata": {
  "kernelspec": {
   "display_name": "base",
   "language": "python",
   "name": "python3"
  },
  "language_info": {
   "codemirror_mode": {
    "name": "ipython",
    "version": 3
   },
   "file_extension": ".py",
   "mimetype": "text/x-python",
   "name": "python",
   "nbconvert_exporter": "python",
   "pygments_lexer": "ipython3",
   "version": "3.12.2"
  }
 },
 "nbformat": 4,
 "nbformat_minor": 2
}
