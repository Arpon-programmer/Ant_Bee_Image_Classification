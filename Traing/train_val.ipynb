{
 "cells": [
  {
   "cell_type": "code",
   "execution_count": 1,
   "metadata": {},
   "outputs": [],
   "source": [
    "import torch\n",
    "import torch.nn as nn\n",
    "import torch.nn.functional as f\n",
    "import torchvision.transforms as T\n",
    "from torchvision.datasets import ImageFolder\n",
    "from torch.utils.data import DataLoader\n",
    "from torchsummary import summary\n",
    "from sklearn.metrics import accuracy_score, confusion_matrix, f1_score, recall_score, precision_score\n",
    "from tqdm import tqdm\n",
    "from torch.utils.tensorboard import SummaryWriter\n",
    "import matplotlib.pyplot as plt\n",
    "import seaborn as sns"
   ]
  },
  {
   "cell_type": "code",
   "execution_count": 2,
   "metadata": {},
   "outputs": [],
   "source": [
    "train_trans = T.Compose([\n",
    "    T.Resize((224, 224)),\n",
    "    T.ToTensor()\n",
    "])\n",
    "val_trans = T.Compose([\n",
    "    T.Resize((224, 224)),\n",
    "    T.ToTensor()\n",
    "])"
   ]
  },
  {
   "cell_type": "code",
   "execution_count": 3,
   "metadata": {},
   "outputs": [],
   "source": [
    "train_ds = ImageFolder(root='/Users/arponbiswas/Computer-Vision-Projects/Image_classification_projects/Ant_Bee_Classification/Data_samples', transform=train_trans)\n",
    "val_ds = ImageFolder(root='/Users/arponbiswas/Computer-Vision-Projects/Image_classification_projects/Ant_Bee_Classification/Data_samples', transform=val_trans)"
   ]
  },
  {
   "cell_type": "code",
   "execution_count": 4,
   "metadata": {},
   "outputs": [],
   "source": [
    "train_dl = DataLoader(train_ds, batch_size=32, shuffle=True)\n",
    "val_dl = DataLoader(val_ds, batch_size=32, shuffle=False)"
   ]
  },
  {
   "cell_type": "code",
   "execution_count": 5,
   "metadata": {},
   "outputs": [],
   "source": [
    "device = torch.device('cuda' if torch.cuda.is_available() else 'cpu')"
   ]
  },
  {
   "cell_type": "code",
   "execution_count": 6,
   "metadata": {},
   "outputs": [],
   "source": [
    "class Model(nn.Module):\n",
    "    def __init__(self):\n",
    "        super(Model, self).__init__()\n",
    "        self.conv1 = nn.Conv2d(in_channels=3, out_channels=6, kernel_size=5, stride=5, padding=0)\n",
    "\n",
    "        self.flatten = nn.Flatten()\n",
    "        self.fc = nn.Linear(6*44*44, 1)\n",
    "\n",
    "    def forward(self, x):\n",
    "        x = f.relu(self.conv1(x))\n",
    "        x = self.flatten(x)\n",
    "        x = self.fc(x)\n",
    "        x = torch.sigmoid(x)\n",
    "        return x"
   ]
  },
  {
   "cell_type": "code",
   "execution_count": null,
   "metadata": {},
   "outputs": [],
   "source": [
    "model = Model()\n",
    "model = model.to(device)\n",
    "if model.name:\n",
    "    writer = SummaryWriter(f'/Users/arponbiswas/Computer-Vision-Projects/Image_classification_projects/Ant_Bee_Classification/TensorBoard-Graph/runs/{model.name}')"
   ]
  },
  {
   "cell_type": "code",
   "execution_count": 85,
   "metadata": {},
   "outputs": [],
   "source": [
    "writer.add_graph(model, torch.rand(1, 3, 224, 224).to(device))"
   ]
  },
  {
   "cell_type": "code",
   "execution_count": 86,
   "metadata": {},
   "outputs": [
    {
     "name": "stdout",
     "output_type": "stream",
     "text": [
      "----------------------------------------------------------------\n",
      "        Layer (type)               Output Shape         Param #\n",
      "================================================================\n",
      "            Conv2d-1            [-1, 6, 44, 44]             456\n",
      "           Flatten-2                [-1, 11616]               0\n",
      "            Linear-3                    [-1, 1]          11,617\n",
      "================================================================\n",
      "Total params: 12,073\n",
      "Trainable params: 12,073\n",
      "Non-trainable params: 0\n",
      "----------------------------------------------------------------\n",
      "Input size (MB): 0.57\n",
      "Forward/backward pass size (MB): 0.18\n",
      "Params size (MB): 0.05\n",
      "Estimated Total Size (MB): 0.80\n",
      "----------------------------------------------------------------\n"
     ]
    }
   ],
   "source": [
    "summary(model, input_size=(3, 224, 224))"
   ]
  },
  {
   "cell_type": "code",
   "execution_count": 87,
   "metadata": {},
   "outputs": [],
   "source": [
    "loss_fn = nn.BCELoss()\n",
    "optimizer = torch.optim.Adam(model.parameters(), lr=0.001)"
   ]
  },
  {
   "cell_type": "code",
   "execution_count": 88,
   "metadata": {},
   "outputs": [],
   "source": [
    "def train_val(epochs=10):\n",
    "    print('Training and Validation Started')\n",
    "    for epoch in tqdm(range(epochs), desc='Epoch Progress'):\n",
    "        # Training\n",
    "        model.train()\n",
    "        train_losses = []\n",
    "        val_losses = []\n",
    "        train_preds = []\n",
    "        train_targets = []\n",
    "        val_preds = []\n",
    "        val_targets = []\n",
    "        for images, labels in train_dl:\n",
    "            images, labels = images.to(device), labels.to(device).float()\n",
    "            optimizer.zero_grad()\n",
    "            outputs = model(images)\n",
    "            preds = torch.round(outputs).squeeze(1)\n",
    "            loss = loss_fn(outputs, labels.unsqueeze(1))\n",
    "            loss.backward()\n",
    "            optimizer.step()\n",
    "            train_losses.append(loss.item())\n",
    "            train_preds.extend(preds.cpu().detach().numpy())\n",
    "            train_targets.extend(labels.cpu().detach().numpy())\n",
    "        # Validation\n",
    "        model.eval()\n",
    "        with torch.no_grad():\n",
    "            for images, labels in val_dl:\n",
    "                images, labels = images.to(device), labels.to(device).float()\n",
    "                outputs = model(images)\n",
    "                preds = torch.round(outputs).squeeze(1)\n",
    "                loss = loss_fn(outputs, labels.unsqueeze(1))\n",
    "                val_losses.append(loss.item())\n",
    "                val_preds.extend(preds.cpu().detach().numpy())\n",
    "                val_targets.extend(labels.cpu().detach().numpy())\n",
    "        # Metrics\n",
    "        train_acc = accuracy_score(train_targets, train_preds)\n",
    "        val_acc = accuracy_score(val_targets, val_preds)\n",
    "        train_loss = sum(train_losses)/len(train_losses)\n",
    "        val_loss = sum(val_losses)/len(val_losses)\n",
    "        train_f1 = f1_score(train_targets, train_preds)\n",
    "        val_f1 = f1_score(val_targets, val_preds)\n",
    "        train_recall = recall_score(train_targets, train_preds)\n",
    "        val_recall = recall_score(val_targets, val_preds)\n",
    "        train_precision = precision_score(train_targets, train_preds)\n",
    "        val_precision = precision_score(val_targets, val_preds)\n",
    "        train_cm = confusion_matrix(train_targets, train_preds)\n",
    "        val_cm = confusion_matrix(val_targets, val_preds)\n",
    "        # Tensorboard\n",
    "        # Training\n",
    "        fig_train, ax_train = plt.subplots(figsize=(6, 6))\n",
    "        sns.heatmap(train_cm, annot=True, fmt='d', cmap='Blues', xticklabels=['Ant', 'Bee'], yticklabels=['Ant', 'Bee'])\n",
    "        ax_train.set_xlabel('Predicted Labels')\n",
    "        ax_train.set_ylabel('True Labels')\n",
    "        ax_train.set_title('Train Confusion Matrix')\n",
    "        writer.add_figure('Train/Confusion Matrix', fig_train, epoch)\n",
    "        writer.add_scalar('Train/Loss', train_loss, epoch)\n",
    "        writer.add_scalar('Train/Accuracy', train_acc, epoch)\n",
    "        writer.add_scalar('Train/F1 Score', train_f1, epoch)\n",
    "        writer.add_scalar('Train/Recall', train_recall, epoch)\n",
    "        writer.add_scalar('Train/Precision', train_precision, epoch)\n",
    "        plt.close(fig_train)\n",
    "        # Validation\n",
    "        fig_val, ax_val = plt.subplots(figsize=(6, 6))\n",
    "        sns.heatmap(val_cm, annot=True, fmt='d', cmap='Blues', xticklabels=['Ant', 'Bee'], yticklabels=['Ant', 'Bee'])\n",
    "        ax_val.set_xlabel('Predicted Labels')\n",
    "        ax_val.set_ylabel('True Labels')\n",
    "        ax_val.set_title('Validation Confusion Matrix')\n",
    "        writer.add_figure('Validation/Confusion Matrix', fig_val, epoch)\n",
    "        writer.add_scalar('Validation/Loss', val_loss, epoch)\n",
    "        writer.add_scalar('Validation/Accuracy', val_acc, epoch)\n",
    "        writer.add_scalar('Validation/F1 Score', val_f1, epoch)\n",
    "        writer.add_scalar('Validation/Recall', val_recall, epoch)\n",
    "        writer.add_scalar('Validation/Precision', val_precision, epoch)\n",
    "        plt.close(fig_val)\n",
    "        writer.flush()\n",
    "    writer.close()"
   ]
  },
  {
   "cell_type": "code",
   "execution_count": 89,
   "metadata": {},
   "outputs": [
    {
     "name": "stdout",
     "output_type": "stream",
     "text": [
      "Training and Validation Started\n"
     ]
    },
    {
     "name": "stderr",
     "output_type": "stream",
     "text": [
      "Epoch Progress: 100%|██████████| 10/10 [00:01<00:00,  5.48it/s]\n"
     ]
    }
   ],
   "source": [
    "train_val(epochs=10)"
   ]
  },
  {
   "cell_type": "markdown",
   "metadata": {},
   "source": [
    "# This code is for training all models in one time"
   ]
  },
  {
   "cell_type": "code",
   "execution_count": null,
   "metadata": {},
   "outputs": [],
   "source": [
    "def train_val(model, epochs=10):\n",
    "    # Adding model to tensorboard\n",
    "    model = model.to(device)\n",
    "    if model.name:\n",
    "        writer = SummaryWriter(f'/Users/arponbiswas/Computer-Vision-Projects/Image_classification_projects/Ant_Bee_Classification/TensorBoard-Graph/runs/{model.name}')\n",
    "    writer.add_graph(model, torch.rand(1, 3, 224, 224).to(device))\n",
    "    print(model.name)\n",
    "    summary(model, input_size=(3, 224, 224))\n",
    "    # Loss Function and Optimizer\n",
    "    loss_fn = nn.BCELoss()\n",
    "    optimizer = torch.optim.Adam(model.parameters(), lr=0.001)\n",
    "    # Training and Validation\n",
    "    print('Training and Validation Started')\n",
    "    for epoch in tqdm(range(epochs), desc='Epoch Progress'):\n",
    "        # Training\n",
    "        model.train()\n",
    "        train_losses = []\n",
    "        val_losses = []\n",
    "        train_preds = []\n",
    "        train_targets = []\n",
    "        val_preds = []\n",
    "        val_targets = []\n",
    "        for images, labels in train_dl:\n",
    "            images, labels = images.to(device), labels.to(device).float()\n",
    "            optimizer.zero_grad()\n",
    "            outputs = model(images)\n",
    "            preds = torch.round(outputs).squeeze(1)\n",
    "            loss = loss_fn(outputs, labels.unsqueeze(1))\n",
    "            loss.backward()\n",
    "            optimizer.step()\n",
    "            train_losses.append(loss.item())\n",
    "            train_preds.extend(preds.cpu().detach().numpy())\n",
    "            train_targets.extend(labels.cpu().detach().numpy())\n",
    "        # Validation\n",
    "        model.eval()\n",
    "        with torch.no_grad():\n",
    "            for images, labels in val_dl:\n",
    "                images, labels = images.to(device), labels.to(device).float()\n",
    "                outputs = model(images)\n",
    "                preds = torch.round(outputs).squeeze(1)\n",
    "                loss = loss_fn(outputs, labels.unsqueeze(1))\n",
    "                val_losses.append(loss.item())\n",
    "                val_preds.extend(preds.cpu().detach().numpy())\n",
    "                val_targets.extend(labels.cpu().detach().numpy())\n",
    "        # Metrics\n",
    "        train_acc = accuracy_score(train_targets, train_preds)\n",
    "        val_acc = accuracy_score(val_targets, val_preds)\n",
    "        train_loss = sum(train_losses)/len(train_losses)\n",
    "        val_loss = sum(val_losses)/len(val_losses)\n",
    "        train_f1 = f1_score(train_targets, train_preds)\n",
    "        val_f1 = f1_score(val_targets, val_preds)\n",
    "        train_recall = recall_score(train_targets, train_preds)\n",
    "        val_recall = recall_score(val_targets, val_preds)\n",
    "        train_precision = precision_score(train_targets, train_preds)\n",
    "        val_precision = precision_score(val_targets, val_preds)\n",
    "        train_cm = confusion_matrix(train_targets, train_preds)\n",
    "        val_cm = confusion_matrix(val_targets, val_preds)\n",
    "        # Adding metrics to tensorboard\n",
    "        # Training\n",
    "        fig_train, ax_train = plt.subplots(figsize=(6, 6))\n",
    "        sns.heatmap(train_cm, annot=True, fmt='d', cmap='Blues', xticklabels=['Ant', 'Bee'], yticklabels=['Ant', 'Bee'])\n",
    "        ax_train.set_xlabel('Predicted Labels')\n",
    "        ax_train.set_ylabel('True Labels')\n",
    "        ax_train.set_title('Train Confusion Matrix')\n",
    "        writer.add_figure('Train/Confusion Matrix', fig_train, epoch)\n",
    "        writer.add_scalar('Train/Loss', train_loss, epoch)\n",
    "        writer.add_scalar('Train/Accuracy', train_acc, epoch)\n",
    "        writer.add_scalar('Train/F1 Score', train_f1, epoch)\n",
    "        writer.add_scalar('Train/Recall', train_recall, epoch)\n",
    "        writer.add_scalar('Train/Precision', train_precision, epoch)\n",
    "        plt.close(fig_train)\n",
    "        # Validation\n",
    "        fig_val, ax_val = plt.subplots(figsize=(6, 6))\n",
    "        sns.heatmap(val_cm, annot=True, fmt='d', cmap='Blues', xticklabels=['Ant', 'Bee'], yticklabels=['Ant', 'Bee'])\n",
    "        ax_val.set_xlabel('Predicted Labels')\n",
    "        ax_val.set_ylabel('True Labels')\n",
    "        ax_val.set_title('Validation Confusion Matrix')\n",
    "        writer.add_figure('Validation/Confusion Matrix', fig_val, epoch)\n",
    "        writer.add_scalar('Validation/Loss', val_loss, epoch)\n",
    "        writer.add_scalar('Validation/Accuracy', val_acc, epoch)\n",
    "        writer.add_scalar('Validation/F1 Score', val_f1, epoch)\n",
    "        writer.add_scalar('Validation/Recall', val_recall, epoch)\n",
    "        writer.add_scalar('Validation/Precision', val_precision, epoch)\n",
    "        plt.close(fig_val)\n",
    "        writer.flush()\n",
    "    writer.close()"
   ]
  },
  {
   "cell_type": "code",
   "execution_count": null,
   "metadata": {},
   "outputs": [],
   "source": [
    "# for model in models:\n",
    "#     train_val(model, epochs=10)"
   ]
  }
 ],
 "metadata": {
  "kernelspec": {
   "display_name": "base",
   "language": "python",
   "name": "python3"
  },
  "language_info": {
   "codemirror_mode": {
    "name": "ipython",
    "version": 3
   },
   "file_extension": ".py",
   "mimetype": "text/x-python",
   "name": "python",
   "nbconvert_exporter": "python",
   "pygments_lexer": "ipython3",
   "version": "3.12.2"
  }
 },
 "nbformat": 4,
 "nbformat_minor": 2
}
